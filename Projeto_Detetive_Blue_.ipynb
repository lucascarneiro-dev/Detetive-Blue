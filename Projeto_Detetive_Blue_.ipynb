{
  "nbformat": 4,
  "nbformat_minor": 0,
  "metadata": {
    "colab": {
      "name": "Projeto Detetive Blue .ipynb",
      "provenance": [],
      "authorship_tag": "ABX9TyOQ8NxjPWyUFoRieIYJdTGI",
      "include_colab_link": true
    },
    "kernelspec": {
      "name": "python3",
      "display_name": "Python 3"
    },
    "language_info": {
      "name": "python"
    }
  },
  "cells": [
    {
      "cell_type": "markdown",
      "metadata": {
        "id": "view-in-github",
        "colab_type": "text"
      },
      "source": [
        "<a href=\"https://colab.research.google.com/github/lucascarneiro-dev/Detetive-Blue/blob/main/Projeto_Detetive_Blue_.ipynb\" target=\"_parent\"><img src=\"https://colab.research.google.com/assets/colab-badge.svg\" alt=\"Open In Colab\"/></a>"
      ]
    },
    {
      "cell_type": "code",
      "metadata": {
        "colab": {
          "base_uri": "https://localhost:8080/",
          "height": 729
        },
        "id": "W3me_zHp-8X0",
        "outputId": "f22ab930-9858-49c8-e7ff-b0c06809eb89"
      },
      "source": [
        "import sys\n",
        "\n",
        "print('AQUI VAI UM TÍTULO MANEIRO EM ARTE COM CARACTERES ESCRITO \"DETETIVE\"')\n",
        "\n",
        "suspeita = 0\n",
        "\n",
        "pergunta01      =   input(\"\\nVocê telefonou para a vítima?[S/N]\").upper()\n",
        "if pergunta01[0]==  'S':\n",
        "  suspeita      +=  1\n",
        "elif  pergunta01[0]==  'N':\n",
        "  suspeita      = suspeita\n",
        "else:\n",
        "  print('''\\n                           Você não sabe falar direito? Ou não quer cooperar? \n",
        "  Isso não deixam as coisas favoráveis no seu interrogatório, isso com certeza será levado em consideração na conclusão do caso.\n",
        "                      E além disso iremos te prender preventivamente até decidir cooperar com as autoridades!''')\n",
        "  sys.exit('\\nSeu interrogatório foi interrompido, mas você vai passar a noite na cadeia.')\n",
        "\n",
        "pergunta02      =   input(\"\\nVocê esteve no local do crime?[S/N]\").upper()\n",
        "if  pergunta02[0]  =='S':\n",
        "  suspeita    +=  1\n",
        "elif  pergunta02[0]==  'N':\n",
        "  suspeita = suspeita\n",
        "else:\n",
        "  suspeita      +=  1\n",
        "  print('''\\n                           Você não sabe falar direito? Ou não quer cooperar? \n",
        "  Isso não deixam as coisas favoráveis no seu interrogatório, isso com certeza será levado em consideração na conclusão do caso.\n",
        "                      E além disso iremos te prender preventivamente até decidir cooperar com as autoridades!''')\n",
        "  sys.exit('\\nSeu interrogatório foi interrompido, mas você vai passar a noite na cadeia.')\n",
        "\n",
        "pergunta03      =   input(\"\\nVocê mora perto da vítima?[S/N]\").upper()\n",
        "if  pergunta03[0]  ==  'S':\n",
        "  suspeita    +=  1\n",
        "elif pergunta03[0] ==  'N':\n",
        "  suspeita      = suspeita\n",
        "else:\n",
        "  suspeita      +=  1\n",
        "  print('''\\n                           Você não sabe falar direito? Ou não quer cooperar? \n",
        "  Isso não deixam as coisas favoráveis no seu interrogatório, isso com certeza será levado em consideração na conclusão do caso.\n",
        "                      E além disso iremos te prender preventivamente até decidir cooperar com as autoridades!''')\n",
        "  sys.exit('\\nSeu interrogatório foi interrompido, mas você vai passar a noite na cadeia.')\n",
        "\n",
        "pergunta04      =   input(\"\\nVocê devia para a vítima?[S/N]\").upper()\n",
        "if  pergunta04[0]  ==  'S':\n",
        "  suspeita    +=  1\n",
        "elif pergunta04[0] ==  'N':\n",
        "  suspeita      = suspeita\n",
        "else:\n",
        "  suspeita      +=  1\n",
        "  print('''\\n                           Você não sabe falar direito? Ou não quer cooperar? \n",
        "  Isso não deixam as coisas favoráveis no seu interrogatório, isso com certeza será levado em consideração na conclusão do caso.\n",
        "                      E além disso iremos te prender preventivamente até decidir cooperar com as autoridades!''')\n",
        "  sys.exit('\\nSeu interrogatório foi interrompido, mas você vai passar a noite na cadeia.')\n",
        "\n",
        "pergunta05      =   input(\"\\nVocê já trabalhou com a vítima?[S/N]\").upper()\n",
        "if  pergunta05[0]  ==  'S':\n",
        "    suspeita    +=  1\n",
        "elif  pergunta03[0]==  'N':\n",
        "  suspeita      = suspeita\n",
        "else:\n",
        "  suspeita      +=  1\n",
        "  print('''\\n                           Você não sabe falar direito? Ou não quer cooperar? \n",
        "  Isso não deixam as coisas favoráveis no seu interrogatório, isso com certeza será levado em consideração na conclusão do caso.\n",
        "                      E além disso iremos te prender preventivamente até decidir cooperar com as autoridades!''')\n",
        "  sys.exit('\\nSeu interrogatório foi interrompido, mas você vai passar a noite na cadeia.')\n",
        "\n",
        "if suspeita == 2:\n",
        "    print('\\nEssa pessoa é suspeita.')\n",
        "elif 3 <= suspeita <= 4:\n",
        "    print('\\nEssa pessoa só pode ser um cúmplice.')\n",
        "elif suspeita >= 5:\n",
        "    print('\\nPrendam o meliante, ele com certeza é o assassino.')\n",
        "else:\n",
        "    print('\\nPor enquanto não temos suspeitos, esse cara é inocente.')\n",
        "\n",
        "suspeita = 0"
      ],
      "execution_count": 1,
      "outputs": [
        {
          "output_type": "stream",
          "text": [
            "AQUI VAI UM TÍTULO MANEIRO EM ARTE COM CARACTERES ESCRITO \"DETETIVE\"\n",
            "\n",
            "Você telefonou para a vítima?[S/N]j\n",
            "\n",
            "                           Você não sabe falar direito? Ou não quer cooperar? \n",
            "  Isso não deixam as coisas favoráveis no seu interrogatório, isso com certeza será levado em consideração na conclusão do caso.\n",
            "                      E além disso iremos te prender preventivamente até decidir cooperar com as autoridades!\n",
            "\n",
            "Seu interrogatório foi interrompido, mas você vai passar a noite na cadeia.\n"
          ],
          "name": "stdout"
        },
        {
          "output_type": "error",
          "ename": "KeyboardInterrupt",
          "evalue": "ignored",
          "traceback": [
            "\u001b[0;31m---------------------------------------------------------------------------\u001b[0m",
            "\u001b[0;31mKeyboardInterrupt\u001b[0m                         Traceback (most recent call last)",
            "\u001b[0;32m/usr/local/lib/python3.7/dist-packages/ipykernel/kernelbase.py\u001b[0m in \u001b[0;36m_input_request\u001b[0;34m(self, prompt, ident, parent, password)\u001b[0m\n\u001b[1;32m    728\u001b[0m             \u001b[0;32mtry\u001b[0m\u001b[0;34m:\u001b[0m\u001b[0;34m\u001b[0m\u001b[0;34m\u001b[0m\u001b[0m\n\u001b[0;32m--> 729\u001b[0;31m                 \u001b[0mident\u001b[0m\u001b[0;34m,\u001b[0m \u001b[0mreply\u001b[0m \u001b[0;34m=\u001b[0m \u001b[0mself\u001b[0m\u001b[0;34m.\u001b[0m\u001b[0msession\u001b[0m\u001b[0;34m.\u001b[0m\u001b[0mrecv\u001b[0m\u001b[0;34m(\u001b[0m\u001b[0mself\u001b[0m\u001b[0;34m.\u001b[0m\u001b[0mstdin_socket\u001b[0m\u001b[0;34m,\u001b[0m \u001b[0;36m0\u001b[0m\u001b[0;34m)\u001b[0m\u001b[0;34m\u001b[0m\u001b[0;34m\u001b[0m\u001b[0m\n\u001b[0m\u001b[1;32m    730\u001b[0m             \u001b[0;32mexcept\u001b[0m \u001b[0mException\u001b[0m\u001b[0;34m:\u001b[0m\u001b[0;34m\u001b[0m\u001b[0;34m\u001b[0m\u001b[0m\n",
            "\u001b[0;32m/usr/local/lib/python3.7/dist-packages/jupyter_client/session.py\u001b[0m in \u001b[0;36mrecv\u001b[0;34m(self, socket, mode, content, copy)\u001b[0m\n\u001b[1;32m    802\u001b[0m         \u001b[0;32mtry\u001b[0m\u001b[0;34m:\u001b[0m\u001b[0;34m\u001b[0m\u001b[0;34m\u001b[0m\u001b[0m\n\u001b[0;32m--> 803\u001b[0;31m             \u001b[0mmsg_list\u001b[0m \u001b[0;34m=\u001b[0m \u001b[0msocket\u001b[0m\u001b[0;34m.\u001b[0m\u001b[0mrecv_multipart\u001b[0m\u001b[0;34m(\u001b[0m\u001b[0mmode\u001b[0m\u001b[0;34m,\u001b[0m \u001b[0mcopy\u001b[0m\u001b[0;34m=\u001b[0m\u001b[0mcopy\u001b[0m\u001b[0;34m)\u001b[0m\u001b[0;34m\u001b[0m\u001b[0;34m\u001b[0m\u001b[0m\n\u001b[0m\u001b[1;32m    804\u001b[0m         \u001b[0;32mexcept\u001b[0m \u001b[0mzmq\u001b[0m\u001b[0;34m.\u001b[0m\u001b[0mZMQError\u001b[0m \u001b[0;32mas\u001b[0m \u001b[0me\u001b[0m\u001b[0;34m:\u001b[0m\u001b[0;34m\u001b[0m\u001b[0;34m\u001b[0m\u001b[0m\n",
            "\u001b[0;32m/usr/local/lib/python3.7/dist-packages/zmq/sugar/socket.py\u001b[0m in \u001b[0;36mrecv_multipart\u001b[0;34m(self, flags, copy, track)\u001b[0m\n\u001b[1;32m    582\u001b[0m         \"\"\"\n\u001b[0;32m--> 583\u001b[0;31m         \u001b[0mparts\u001b[0m \u001b[0;34m=\u001b[0m \u001b[0;34m[\u001b[0m\u001b[0mself\u001b[0m\u001b[0;34m.\u001b[0m\u001b[0mrecv\u001b[0m\u001b[0;34m(\u001b[0m\u001b[0mflags\u001b[0m\u001b[0;34m,\u001b[0m \u001b[0mcopy\u001b[0m\u001b[0;34m=\u001b[0m\u001b[0mcopy\u001b[0m\u001b[0;34m,\u001b[0m \u001b[0mtrack\u001b[0m\u001b[0;34m=\u001b[0m\u001b[0mtrack\u001b[0m\u001b[0;34m)\u001b[0m\u001b[0;34m]\u001b[0m\u001b[0;34m\u001b[0m\u001b[0;34m\u001b[0m\u001b[0m\n\u001b[0m\u001b[1;32m    584\u001b[0m         \u001b[0;31m# have first part already, only loop while more to receive\u001b[0m\u001b[0;34m\u001b[0m\u001b[0;34m\u001b[0m\u001b[0;34m\u001b[0m\u001b[0m\n",
            "\u001b[0;32mzmq/backend/cython/socket.pyx\u001b[0m in \u001b[0;36mzmq.backend.cython.socket.Socket.recv\u001b[0;34m()\u001b[0m\n",
            "\u001b[0;32mzmq/backend/cython/socket.pyx\u001b[0m in \u001b[0;36mzmq.backend.cython.socket.Socket.recv\u001b[0;34m()\u001b[0m\n",
            "\u001b[0;32mzmq/backend/cython/socket.pyx\u001b[0m in \u001b[0;36mzmq.backend.cython.socket._recv_copy\u001b[0;34m()\u001b[0m\n",
            "\u001b[0;32m/usr/local/lib/python3.7/dist-packages/zmq/backend/cython/checkrc.pxd\u001b[0m in \u001b[0;36mzmq.backend.cython.checkrc._check_rc\u001b[0;34m()\u001b[0m\n",
            "\u001b[0;31mKeyboardInterrupt\u001b[0m: ",
            "\nDuring handling of the above exception, another exception occurred:\n",
            "\u001b[0;31mKeyboardInterrupt\u001b[0m                         Traceback (most recent call last)",
            "\u001b[0;32m<ipython-input-1-da2ed3401525>\u001b[0m in \u001b[0;36m<module>\u001b[0;34m()\u001b[0m\n\u001b[1;32m     17\u001b[0m   \u001b[0mexit\u001b[0m\u001b[0;34m(\u001b[0m\u001b[0;34m)\u001b[0m\u001b[0;34m\u001b[0m\u001b[0;34m\u001b[0m\u001b[0m\n\u001b[1;32m     18\u001b[0m \u001b[0;34m\u001b[0m\u001b[0m\n\u001b[0;32m---> 19\u001b[0;31m \u001b[0mpergunta02\u001b[0m      \u001b[0;34m=\u001b[0m   \u001b[0minput\u001b[0m\u001b[0;34m(\u001b[0m\u001b[0;34m\"\\nVocê esteve no local do crime?[S/N]\"\u001b[0m\u001b[0;34m)\u001b[0m\u001b[0;34m.\u001b[0m\u001b[0mupper\u001b[0m\u001b[0;34m(\u001b[0m\u001b[0;34m)\u001b[0m\u001b[0;34m\u001b[0m\u001b[0;34m\u001b[0m\u001b[0m\n\u001b[0m\u001b[1;32m     20\u001b[0m \u001b[0;32mif\u001b[0m  \u001b[0mpergunta02\u001b[0m\u001b[0;34m[\u001b[0m\u001b[0;36m0\u001b[0m\u001b[0;34m]\u001b[0m  \u001b[0;34m==\u001b[0m\u001b[0;34m'S'\u001b[0m\u001b[0;34m:\u001b[0m\u001b[0;34m\u001b[0m\u001b[0;34m\u001b[0m\u001b[0m\n\u001b[1;32m     21\u001b[0m   \u001b[0msuspeita\u001b[0m    \u001b[0;34m+=\u001b[0m  \u001b[0;36m1\u001b[0m\u001b[0;34m\u001b[0m\u001b[0;34m\u001b[0m\u001b[0m\n",
            "\u001b[0;32m/usr/local/lib/python3.7/dist-packages/ipykernel/kernelbase.py\u001b[0m in \u001b[0;36mraw_input\u001b[0;34m(self, prompt)\u001b[0m\n\u001b[1;32m    702\u001b[0m             \u001b[0mself\u001b[0m\u001b[0;34m.\u001b[0m\u001b[0m_parent_ident\u001b[0m\u001b[0;34m,\u001b[0m\u001b[0;34m\u001b[0m\u001b[0;34m\u001b[0m\u001b[0m\n\u001b[1;32m    703\u001b[0m             \u001b[0mself\u001b[0m\u001b[0;34m.\u001b[0m\u001b[0m_parent_header\u001b[0m\u001b[0;34m,\u001b[0m\u001b[0;34m\u001b[0m\u001b[0;34m\u001b[0m\u001b[0m\n\u001b[0;32m--> 704\u001b[0;31m             \u001b[0mpassword\u001b[0m\u001b[0;34m=\u001b[0m\u001b[0;32mFalse\u001b[0m\u001b[0;34m,\u001b[0m\u001b[0;34m\u001b[0m\u001b[0;34m\u001b[0m\u001b[0m\n\u001b[0m\u001b[1;32m    705\u001b[0m         )\n\u001b[1;32m    706\u001b[0m \u001b[0;34m\u001b[0m\u001b[0m\n",
            "\u001b[0;32m/usr/local/lib/python3.7/dist-packages/ipykernel/kernelbase.py\u001b[0m in \u001b[0;36m_input_request\u001b[0;34m(self, prompt, ident, parent, password)\u001b[0m\n\u001b[1;32m    732\u001b[0m             \u001b[0;32mexcept\u001b[0m \u001b[0mKeyboardInterrupt\u001b[0m\u001b[0;34m:\u001b[0m\u001b[0;34m\u001b[0m\u001b[0;34m\u001b[0m\u001b[0m\n\u001b[1;32m    733\u001b[0m                 \u001b[0;31m# re-raise KeyboardInterrupt, to truncate traceback\u001b[0m\u001b[0;34m\u001b[0m\u001b[0;34m\u001b[0m\u001b[0;34m\u001b[0m\u001b[0m\n\u001b[0;32m--> 734\u001b[0;31m                 \u001b[0;32mraise\u001b[0m \u001b[0mKeyboardInterrupt\u001b[0m\u001b[0;34m\u001b[0m\u001b[0;34m\u001b[0m\u001b[0m\n\u001b[0m\u001b[1;32m    735\u001b[0m             \u001b[0;32melse\u001b[0m\u001b[0;34m:\u001b[0m\u001b[0;34m\u001b[0m\u001b[0;34m\u001b[0m\u001b[0m\n\u001b[1;32m    736\u001b[0m                 \u001b[0;32mbreak\u001b[0m\u001b[0;34m\u001b[0m\u001b[0;34m\u001b[0m\u001b[0m\n",
            "\u001b[0;31mKeyboardInterrupt\u001b[0m: "
          ]
        }
      ]
    }
  ]
}
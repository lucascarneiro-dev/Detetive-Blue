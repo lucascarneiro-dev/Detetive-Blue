{
  "nbformat": 4,
  "nbformat_minor": 0,
  "metadata": {
    "colab": {
      "name": "Projeto 04 - Eleição.ipynb",
      "provenance": [],
      "authorship_tag": "ABX9TyNEnQ7j8cFppJTMXgDGZSR/",
      "include_colab_link": true
    },
    "kernelspec": {
      "name": "python3",
      "display_name": "Python 3"
    },
    "language_info": {
      "name": "python"
    }
  },
  "cells": [
    {
      "cell_type": "markdown",
      "metadata": {
        "id": "view-in-github",
        "colab_type": "text"
      },
      "source": [
        "<a href=\"https://colab.research.google.com/github/lucascarneiro-dev/Projetos-Blue-Modulo01/blob/main/Projeto_04_Vota%C3%A7%C3%A3o.ipynb\" target=\"_parent\"><img src=\"https://colab.research.google.com/assets/colab-badge.svg\" alt=\"Open In Colab\"/></a>"
      ]
    },
    {
      "cell_type": "code",
      "metadata": {
        "id": "eUOS3TKjgRRS"
      },
      "source": [
        "from datetime import date\n",
        "\n",
        "\n",
        "\n",
        "#list of candidates\n",
        "candidates  = ['CandidatoA','CandidatoB','CandidatoC','Voto Nulo','Voto em Branco']\n",
        "votes       = {}\n",
        "\n",
        "\n",
        "#Age validation function\n",
        "def autoriza_voto():\n",
        "    while True:#loop to test birth year input\n",
        "        year = input('Digite o seu ano de nascimento[yyyy]: ')#birth year variable\n",
        "        error=0#variable to count errors\n",
        "        try: #test 'year'\n",
        "            int(year)\n",
        "        except: #input was incorrectly filled in \n",
        "            print('O ano de nascimento foi preenchido incorretamente.')\n",
        "            error = 1\n",
        "        finally: #valid birth year input\n",
        "            if error == 0:#case no error ocurred\n",
        "                age = 2021-int(year)#calcular idade\n",
        "                if int(year)>date.today().year:#check if filled year is not greater than current year\n",
        "                    print(f'Hoje é {date.today().day:02}/{date.today().month:02}/{date.today().year}, o ano de nascimento foi preenchido incorretamente.')\n",
        "                    pass\n",
        "                else:    \n",
        "                    if age<16:\n",
        "                        print(f'\\nVocê tem {age} anos.')\n",
        "                        return False\n",
        "                    elif age>=16 and age<18:\n",
        "                        print(f'\\nVocê tem {age} anos, o voto é OPCIONAL.')\n",
        "                        return True\n",
        "                    elif age>=18 and age<70:\n",
        "                        print(f'\\nVocê tem {age} anos, o voto é OBRIGATÓRIO.')\n",
        "                        return True\n",
        "                    else:\n",
        "                        print(f'\\nVocê tem {age} anos, o voto é OPCIONAL')\n",
        "                        return True\n",
        "\n",
        "\n",
        "def votacao():#election function\n",
        "    votes.clear()#clear votes dict\n",
        "    for c in range(len(candidates)):#loop to create valid index in votes dict\n",
        "        votes[f'{candidates[c]}']=0\n",
        "    while True:#loop to register one vote\n",
        "        if autoriza_voto()!=True:\n",
        "            print(f'\\nVocê não pode votar.')\n",
        "        else:\n",
        "            print('\\nEscolha seu candidato e vote no número respectivo a ele:')\n",
        "            for c in range(len(candidates)):\n",
        "                print(f'{(c+1):02} - {candidates[c]}')\n",
        "            while True:\n",
        "                vote = input('\\nVoto: ')\n",
        "                try:\n",
        "                    int(vote)\n",
        "                except:\n",
        "                    print(f'\\nOpção inválida, digite um número de 1 à {len(candidates)+1}.')\n",
        "                finally:\n",
        "                    if int(vote)>len(candidates):\n",
        "                        print(f'\\nOpção inválida, digite um número de 1 à {len(candidates)+1}.')\n",
        "                    else:\n",
        "                        break\n",
        "            votes[f'{candidates[int(vote)-1]}']=(votes[f'{candidates[int(vote)-1]}']+1)\n",
        "            print('\\nVoto registrado.')\n",
        "        if input(f'\\nContinuar votação?[S/N]').upper()[0] == 'N':\n",
        "            print(f'\\nVotação encerrada.\\n')\n",
        "            break#end election\n",
        "        else:\n",
        "            print(f'\\nPRÓXIMO ELEITOR\\n')\n",
        "    print(f'Candidato{\" \"*25}Votos')\n",
        "    for c in range(len(candidates)):#loop for show election results\n",
        "        print(f'{candidates[c]}{\" \"*(25+11-len(candidates[c]))}{votes[candidates[c]]}')\n",
        "    winnerList=[]\n",
        "    for c in range(len(candidates)):\n",
        "        winnerList.append(votes[f'{candidates[c]}'])\n",
        "        winnerIndex=winnerList.index(max(winnerList))\n",
        "    print(f'\\n{candidates[winnerIndex]} teve mais votos nessa eleição.')\n",
        "\n",
        "\n",
        "print(f'{\"=\"*25}DIA DE ELEIÇÃO{\"=\"*25}') \n",
        "print(f'\\n Se você tem 16 anos completos já tem o diretio a voto mas se tem menos que 18 anos ou 70 anos ou mais seu voto é opcional.\\n')\n",
        "\n",
        "votacao()"
      ],
      "execution_count": null,
      "outputs": []
    }
  ]
}
